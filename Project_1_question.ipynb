{
 "cells": [
  {
   "cell_type": "markdown",
   "id": "d388258c",
   "metadata": {},
   "source": [
    "Questions for project 1\n",
    "\n",
    "Movie lens is a US based company in the internet and entrertainment domain that has an online database of information related to fils, television series, online streaming content- including cast, production crew, trivia, ratings and fan and critical views. You have been hired an an analyst for the company. You have been provided with the three data sets, asked to carry put detailed bussiness intelligence and come up with meaningful insights, to help the company address users in a better way. \n",
    "\n",
    "a. How many movies belong to a particular genre\n",
    "b. Which movies have more than one genre\n",
    "c.Which genres are most liked by users\n",
    "d. Which movies have been most preferred by users\n",
    "e. Which movies are rated most of the time\n",
    "f. Any relationship between dermographic details of users and ratings of movies "
   ]
  }
 ],
 "metadata": {
  "kernelspec": {
   "display_name": "Python 3",
   "language": "python",
   "name": "python3"
  },
  "language_info": {
   "name": "python",
   "version": "3.10.11"
  }
 },
 "nbformat": 4,
 "nbformat_minor": 5
}
