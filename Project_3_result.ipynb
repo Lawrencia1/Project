{
 "cells": [
  {
   "cell_type": "markdown",
   "id": "d0440d62",
   "metadata": {},
   "source": [
    "Recommendation for Project 3\n",
    "\n",
    "Based on the financial performances of the different house types across various UK regions over the years,\n",
    "it is recommended that property ivestment should be channelled towards detached house types in London.\n",
    "\n",
    "This is due to the fact that despite market fluctuations across all years, detached houses demonstrate the highest appreciation over time. \n",
    "\n",
    "Also, areas like London continue to command the highest average prices of UK houses, as such offerring strong potential for capital appreciation.  "
   ]
  }
 ],
 "metadata": {
  "language_info": {
   "name": "python"
  }
 },
 "nbformat": 4,
 "nbformat_minor": 5
}
