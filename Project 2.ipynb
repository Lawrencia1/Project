{
 "cells": [
  {
   "cell_type": "code",
   "execution_count": 2,
   "metadata": {},
   "outputs": [],
   "source": [
    "%matplotlib inline\n",
    "import pandas as pd\n",
    "import seaborn as sns\n",
    "import matplotlib.pyplot as plt #this can also be written as \"from matplotlib import pyplot as plt\"\n",
    "import numpy as np"
   ]
  },
  {
   "cell_type": "markdown",
   "metadata": {},
   "source": [
    "QUESTION 2"
   ]
  },
  {
   "cell_type": "code",
   "execution_count": null,
   "metadata": {},
   "outputs": [],
   "source": [
    "\n",
    "# Read the relevant files\n",
    "pd.read_csv(\"winemag-data-130k-v2.csv\")"
   ]
  },
  {
   "cell_type": "code",
   "execution_count": null,
   "metadata": {},
   "outputs": [],
   "source": [
    "# Read in data into saved files\n",
    "wine = pd.read_csv(\"winemag-data-130k-v2.csv\", index_col= 0)\n",
    "wine"
   ]
  },
  {
   "cell_type": "markdown",
   "metadata": {},
   "source": [
    "QUESTION 2a- which countries produce the finest quality wine i.e points be equal or above 90"
   ]
  },
  {
   "cell_type": "code",
   "execution_count": null,
   "metadata": {},
   "outputs": [],
   "source": [
    "#Step 1: Extract rows from column:points, where wine points are greater than or equal to 90, and put into a new column 'Total Points'\n",
    "\n",
    "wine['Total points'] = wine['points']. apply (lambda x:x if x>=90 else None )\n",
    "wine\n"
   ]
  },
  {
   "cell_type": "code",
   "execution_count": null,
   "metadata": {},
   "outputs": [],
   "source": [
    "#Step 2: Identify the different data types of each column\n",
    "wine.dtypes"
   ]
  },
  {
   "cell_type": "code",
   "execution_count": null,
   "metadata": {},
   "outputs": [],
   "source": [
    "#Step 3: Move 'total points' column to index position 4\n",
    "cols = list(wine.columns)\n",
    "cols.insert(4, cols.pop(cols.index (\"Total points\")))\n",
    "wine = wine[cols]\n",
    "wine\n"
   ]
  },
  {
   "cell_type": "code",
   "execution_count": null,
   "metadata": {},
   "outputs": [],
   "source": [
    "#Step 4:to remove 'none' enteries from 'total points' column\n",
    "wine = wine[wine[\"Total points\"].notnull()]\n",
    "wine"
   ]
  },
  {
   "cell_type": "code",
   "execution_count": null,
   "metadata": {},
   "outputs": [],
   "source": [
    "#Step 5: Select specific columns from data set; countries and total points\n",
    "wine_quality = wine.filter(items=[\"country\", \"Total points\"])\n",
    "wine_quality"
   ]
  },
  {
   "cell_type": "markdown",
   "metadata": {},
   "source": [
    "QUESTION 2b - most expensive wine and what producer makes it"
   ]
  },
  {
   "cell_type": "code",
   "execution_count": null,
   "metadata": {},
   "outputs": [],
   "source": [
    "#Step 1: Use max to determine the price of the most expensive wine\n",
    "costly_wine = wine[\"price\"].max()\n",
    "costly_wine"
   ]
  },
  {
   "cell_type": "code",
   "execution_count": null,
   "metadata": {},
   "outputs": [],
   "source": [
    "#Step 2: Select the row of the most expensive wine\n",
    "wine_costly = wine[wine[\"price\"] == 2500.0]\n",
    "wine_costly"
   ]
  },
  {
   "cell_type": "markdown",
   "metadata": {},
   "source": [
    "QUESTION 2c- which product shouldnt be supplied anymore with points less than 45"
   ]
  },
  {
   "cell_type": "code",
   "execution_count": null,
   "metadata": {},
   "outputs": [],
   "source": [
    "#Step 1: Select rows with wine points less than 45\n",
    "wine_cheap = wine[wine[\"points\"] < 45]\n",
    "wine_cheap"
   ]
  }
 ],
 "metadata": {
  "kernelspec": {
   "display_name": "Python 3",
   "language": "python",
   "name": "python3"
  },
  "language_info": {
   "codemirror_mode": {
    "name": "ipython",
    "version": 3
   },
   "file_extension": ".py",
   "mimetype": "text/x-python",
   "name": "python",
   "nbconvert_exporter": "python",
   "pygments_lexer": "ipython3",
   "version": "3.10.11"
  }
 },
 "nbformat": 4,
 "nbformat_minor": 2
}
