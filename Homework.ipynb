{
 "cells": [
  {
   "cell_type": "code",
   "execution_count": null,
   "metadata": {},
   "outputs": [],
   "source": [
    "budget = input(\"What is your car buying budget? \\n\")\n",
    "budget = int(budget)\n",
    "if budget != int(budget):\n",
    "    print(\"please be realistic, you cant buy car on rainbows and love\")\n",
    "if budget > 75000:\n",
    "    print(\"You can buy a Tesla\")\n",
    "elif budget < 500:\n",
    "    print(\"You are better off riding the bus\")\n",
    "elif budget >500 <75000:\n",
    "    print(\"Buy a Toyota corolla or some other brand\")\n",
    "\n",
    "else:\n",
    "    print(\"You can get all your car shopping done at Lawrencia Auto depot\")\n",
    "    \n",
    "    "
   ]
  },
  {
   "cell_type": "code",
   "execution_count": null,
   "metadata": {},
   "outputs": [],
   "source": [
    "my_age = input(\"how old are you \\n\")\n",
    "my_age = int(my_age)\n",
    "drive_car_year = 16\n",
    "if drive_car_year < 16: \n",
    "    print(\"you are too young to drive. Wait until drive_car_year\")\n",
    "    alcohol_year = 21\n",
    "if alcohol_year >= 21:\n",
    "    print(\"now you can drink alcohol, but dont drink alcohol\")\n",
    "    president_year = 35\n",
    "else:\n",
    "    print(\"you will become a president at president_year\")\n"
   ]
  },
  {
   "cell_type": "code",
   "execution_count": null,
   "metadata": {},
   "outputs": [],
   "source": [
    "my_favs = (rice, beans, plaintain, chicken)\n",
    "print(len(my_favs))\n",
    "print(max(my_favs))\n",
    "print(min(my_favs))"
   ]
  },
  {
   "cell_type": "code",
   "execution_count": null,
   "metadata": {},
   "outputs": [],
   "source": [
    "items_list = (1,67,88,93,40, 27,16,54, 39,20,13, 107, 88, 38)\n",
    "print(len(items_list))\n",
    "print(max(items_list))\n",
    "print(min(items_list))"
   ]
  },
  {
   "cell_type": "code",
   "execution_count": 2,
   "metadata": {},
   "outputs": [
    {
     "data": {
      "text/plain": [
       "0.11390664029226671"
      ]
     },
     "execution_count": 2,
     "metadata": {},
     "output_type": "execute_result"
    }
   ],
   "source": [
    "import  random\n",
    "random . random ()"
   ]
  },
  {
   "cell_type": "code",
   "execution_count": null,
   "metadata": {},
   "outputs": [],
   "source": [
    "def hello ():\n",
    "    print(\"Hi\")\n",
    "\n",
    "if __name__ == \"__main__\":\n",
    "    hello ()"
   ]
  },
  {
   "cell_type": "code",
   "execution_count": null,
   "metadata": {},
   "outputs": [],
   "source": [
    "ef Hi (name):\n",
    "    name = input (\"What is name of your pet? \\n\")\n",
    "    print (\"Hi \" + name)\n",
    "    \n",
    "if __name__ == \"__main__\":\n",
    "    Hi (\"name\")"
   ]
  },
  {
   "cell_type": "code",
   "execution_count": null,
   "metadata": {},
   "outputs": [],
   "source": [
    "def body_mass_index (name: str, height: int, weight: int):\n",
    "    name = input(\"What is your name ?| \\n\")\n",
    "    height = float(input(\"What is your height? \\n\"))\n",
    "    weight = float(input(\"What is your weight? \\n\"))\n",
    "    BMI = weight / (height * height)\n",
    "    print (f\"Hello {name} your BMI is {BMI} is \" )\n",
    "    \n",
    "if __name__ == \"__main__\":\n",
    "    body_mass_index (\"John\", 7, 8)"
   ]
  },
  {
   "cell_type": "code",
   "execution_count": null,
   "metadata": {},
   "outputs": [],
   "source": [
    "list = (10, 19, 34, 24, 8.4, 7.5, 44, 204, 87, 15,53)\n",
    "for anything in list:\n",
    "    #print(list)\n",
    "    #print([int(anything) for anything in list])\n",
    "    print([anything])"
   ]
  },
  {
   "cell_type": "code",
   "execution_count": null,
   "metadata": {},
   "outputs": [],
   "source": [
    "integers = map( lambda x: int (x), series)\n",
    "for number in integers:\n",
    "    print (number)\n",
    "# map(\"function\", \"series\")"
   ]
  },
  {
   "cell_type": "code",
   "execution_count": null,
   "metadata": {},
   "outputs": [],
   "source": [
    "def squared (p):\n",
    "    print (f\"the squared of the number {p} is {p * p}\")\n",
    "squared (47.625)"
   ]
  },
  {
   "cell_type": "code",
   "execution_count": null,
   "metadata": {},
   "outputs": [],
   "source": [
    "def sum (x, y):\n",
    "    print (f\"the sum of the number {x} and {y} is {x + y}\")\n",
    "sum (34, 80)"
   ]
  },
  {
   "cell_type": "code",
   "execution_count": null,
   "metadata": {},
   "outputs": [],
   "source": [
    "def subtract (x, y):\n",
    "    result = (x - y)\n",
    "    if x > y :\n",
    "        print (f\"The difference between {x} and {y} is {result}\")\n",
    "    else:\n",
    "        print (\"Error! This will return a negative number\")\n",
    "        \n",
    "subtract (5 , 2)\n",
    "    "
   ]
  },
  {
   "cell_type": "code",
   "execution_count": null,
   "metadata": {},
   "outputs": [],
   "source": [
    "def subtract (x, y):\n",
    "    result = (x - y)\n",
    "try:\n",
    "    if x > y :\n",
    "        print (f\"The difference between {x} and {y} is {result}\")\n",
    "except:\n",
    "        print (\"Error! This will return a negative number\")\n",
    "subtract (5, 2)\n"
   ]
  },
  {
   "cell_type": "code",
   "execution_count": 22,
   "metadata": {},
   "outputs": [
    {
     "data": {
      "text/plain": [
       "'Hello Tee'"
      ]
     },
     "execution_count": 22,
     "metadata": {},
     "output_type": "execute_result"
    }
   ],
   "source": [
    "def your_name ():\n",
    "    name = input (\"What is your name ? \\n\")\n",
    "    return \"Hello \" + name\n",
    "your_name ()\n",
    "    "
   ]
  },
  {
   "cell_type": "code",
   "execution_count": null,
   "metadata": {},
   "outputs": [],
   "source": [
    "def square (list: int):\n",
    "    value = list * list\n",
    "    return value"
   ]
  },
  {
   "cell_type": "code",
   "execution_count": null,
   "metadata": {},
   "outputs": [],
   "source": [
    "items = [2,4,5,6,7,8,81,90]\n",
    "answer = map( square , items)\n",
    "for i in answer:\n",
    "    print(i)"
   ]
  }
 ],
 "metadata": {
  "kernelspec": {
   "display_name": "Python 3",
   "language": "python",
   "name": "python3"
  },
  "language_info": {
   "codemirror_mode": {
    "name": "ipython",
    "version": 3
   },
   "file_extension": ".py",
   "mimetype": "text/x-python",
   "name": "python",
   "nbconvert_exporter": "python",
   "pygments_lexer": "ipython3",
   "version": "3.12.3"
  }
 },
 "nbformat": 4,
 "nbformat_minor": 2
}
