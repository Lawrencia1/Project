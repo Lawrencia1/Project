{
 "cells": [
  {
   "cell_type": "markdown",
   "id": "86ccd53c",
   "metadata": {},
   "source": [
    "QUESTION 2\n",
    "wine data illustrates various information on quality and nature of wine produced across various location in Europe\n",
    "\n",
    "a- which countries produce the finest quality wine i.e points be equal or above 90\n",
    "\n",
    "b - most expensive wine and what producer makes it\n",
    "\n",
    "c- which product shouldnt be supplied anymore with points less than 45"
   ]
  }
 ],
 "metadata": {
  "language_info": {
   "name": "python"
  }
 },
 "nbformat": 4,
 "nbformat_minor": 5
}
